{
 "cells": [
  {
   "cell_type": "markdown",
   "metadata": {},
   "source": [
    "# Loading the Data"
   ]
  },
  {
   "cell_type": "code",
   "execution_count": 1,
   "metadata": {},
   "outputs": [],
   "source": [
    "import pandas as pd\n",
    "import numpy as np\n",
    "\n",
    "\n",
    "#file paths\n",
    "#election_data = r'usa-2016-presidential-election-by-county.csv'\n",
    "election_data = r'usa.csv'\n",
    "covid_data = r'coronavirus-covid-19-pandemic-usa-counties (2021).csv'\n",
    "#load the datasets\n",
    "raw_dataset = pd.read_csv(election_data, delimiter = ';')\n",
    "raw_dataset_covid = pd.read_csv(covid_data, delimiter = ';')"
   ]
  },
  {
   "cell_type": "code",
   "execution_count": 2,
   "metadata": {},
   "outputs": [
    {
     "name": "stdout",
     "output_type": "stream",
     "text": [
      "Election Data\n",
      "(3143, 159)\n",
      "               State  ST   Fips                           County  Precincts  \\\n",
      "0            Georgia  GA  13231             Pike County, Georgia        8.0   \n",
      "1               Utah  UT  49051             Wasatch County, Utah       38.0   \n",
      "2         Washington  WA  53021      Franklin County, Washington       15.0   \n",
      "3           Nebraska  NE  31119         Madison County, Nebraska       22.0   \n",
      "4            Florida  FL  12045             Gulf County, Florida        9.0   \n",
      "...              ...  ..    ...                              ...        ...   \n",
      "3138       Tennessee  TN  47131          Obion County, Tennessee       12.0   \n",
      "3139        Michigan  MI  26099          Macomb County, Michigan      337.0   \n",
      "3140   West Virginia  WV  54007    Braxton County, West Virginia       18.0   \n",
      "3141  North Carolina  NC  37121  Mitchell County, North Carolina        9.0   \n",
      "3142        Maryland  MD  24019      Dorchester County, Maryland       39.0   \n",
      "\n",
      "         Votes  Democrats 08 (Votes)  Democrats 12 (Votes)  \\\n",
      "0       8675.0                1575.0                1356.0   \n",
      "1      12120.0                2892.0                2191.0   \n",
      "2      20584.0                7361.0                8398.0   \n",
      "3      13956.0                4142.0                3485.0   \n",
      "4       7279.0                2149.0                2014.0   \n",
      "...        ...                   ...                   ...   \n",
      "3138   12223.0                4308.0                3321.0   \n",
      "3139  418773.0              223784.0              208016.0   \n",
      "3140    5063.0                2704.0                1998.0   \n",
      "3141    7948.0                2238.0                1838.0   \n",
      "3142   14034.0                6912.0                7257.0   \n",
      "\n",
      "      Republicans 08 (Votes)  Republicans 12 (Votes)  ...   total08   total12  \\\n",
      "0                     6547.0                  6668.0  ...    8203.0    8109.0   \n",
      "1                     5430.0                  7220.0  ...    8531.0    9589.0   \n",
      "2                    12037.0                 13748.0  ...   19696.0   22643.0   \n",
      "3                     9655.0                 10062.0  ...   14045.0   13885.0   \n",
      "4                     4980.0                  4995.0  ...    7205.0    7108.0   \n",
      "...                      ...                     ...  ...       ...       ...   \n",
      "3138                  8873.0                  8814.0  ...   13392.0   12297.0   \n",
      "3139                187663.0                191913.0  ...  419216.0  404086.0   \n",
      "3140                  2629.0                  2725.0  ...    5409.0    4804.0   \n",
      "3141                  5499.0                  5806.0  ...    7846.0    7765.0   \n",
      "3142                  8168.0                  7976.0  ...   15274.0   15444.0   \n",
      "\n",
      "      other08  other12  Other12 Frac  Other08 Frac  Rep12 Frac2  Rep08 Frac2  \\\n",
      "0        81.0     85.0      0.010482      0.009874     0.831007     0.806082   \n",
      "1       209.0    178.0      0.018563      0.024499     0.767187     0.652487   \n",
      "2       298.0    497.0      0.021949      0.015130     0.620789     0.620528   \n",
      "3       248.0    338.0      0.024343      0.017658     0.742747     0.699790   \n",
      "4        76.0     99.0      0.013928      0.010548     0.712655     0.698555   \n",
      "...       ...      ...           ...           ...          ...          ...   \n",
      "3138    211.0    162.0      0.013174      0.015756     0.726329     0.673166   \n",
      "3139   7769.0   4157.0      0.010287      0.018532     0.479868     0.456105   \n",
      "3140     76.0     81.0      0.016861      0.014051     0.576964     0.492968   \n",
      "3141    109.0    121.0      0.015583      0.013892     0.759550     0.710741   \n",
      "3142    194.0    211.0      0.013662      0.012701     0.523600     0.541645   \n",
      "\n",
      "      Dem12 Frac2  Dem08 Frac2  \n",
      "0        0.168993     0.193918  \n",
      "1        0.232813     0.347513  \n",
      "2        0.379211     0.379472  \n",
      "3        0.257253     0.300210  \n",
      "4        0.287345     0.301445  \n",
      "...           ...          ...  \n",
      "3138     0.273671     0.326834  \n",
      "3139     0.520132     0.543895  \n",
      "3140     0.423036     0.507032  \n",
      "3141     0.240450     0.289259  \n",
      "3142     0.476400     0.458355  \n",
      "\n",
      "[3143 rows x 159 columns]\n"
     ]
    }
   ],
   "source": [
    "print('Election Data')\n",
    "print(raw_dataset.shape)\n",
    "print(raw_dataset)"
   ]
  },
  {
   "cell_type": "code",
   "execution_count": 3,
   "metadata": {},
   "outputs": [
    {
     "name": "stdout",
     "output_type": "stream",
     "text": [
      "COVID Data\n",
      "(384930, 7)\n",
      "   Admin 2 FIPS Code  Province/State  \\\n",
      "0            42133.0    Pennsylvania   \n",
      "1            72051.0     Puerto Rico   \n",
      "2            72053.0     Puerto Rico   \n",
      "3            72097.0     Puerto Rico   \n",
      "4            72151.0     Puerto Rico   \n",
      "5            45041.0  South Carolina   \n",
      "6            45063.0  South Carolina   \n",
      "7            45071.0  South Carolina   \n",
      "8            45087.0  South Carolina   \n",
      "9            46007.0    South Dakota   \n",
      "\n",
      "  Admin 2 Level (City/County/Borough/Region)        Date  Total Death  \\\n",
      "0                                       York  2021-01-17          545   \n",
      "1                                     Dorado  2021-01-17            0   \n",
      "2                                    Fajardo  2021-01-17            0   \n",
      "3                                   Mayaguez  2021-01-17            0   \n",
      "4                                    Yabucoa  2021-01-17            0   \n",
      "5                                   Florence  2021-01-17          313   \n",
      "6                                  Lexington  2021-01-17          321   \n",
      "7                                   Newberry  2021-01-17           76   \n",
      "8                                      Union  2021-01-17           53   \n",
      "9                                    Bennett  2021-01-17            8   \n",
      "\n",
      "   Total Confirmed                  location  \n",
      "0            28488   39.9210089,-76.73040131  \n",
      "1             1341      18.436115,-66.278669  \n",
      "2              725      18.318373,-65.666866  \n",
      "3             1107      18.175457,-67.336525  \n",
      "4              616      18.070399,-65.896289  \n",
      "5            13639  34.02361754,-79.70189312  \n",
      "6            21739  33.89665987,-81.27146426  \n",
      "7             3435  34.28629098,-81.59935761  \n",
      "8             1860  34.68835752,-81.61730349  \n",
      "9              372  43.19486375,-101.6665572  \n"
     ]
    }
   ],
   "source": [
    "print('COVID Data')\n",
    "print(raw_dataset_covid.shape)\n",
    "print(raw_dataset_covid.head(10))"
   ]
  },
  {
   "cell_type": "markdown",
   "metadata": {},
   "source": [
    "# Selecting the Desired Columns (Election Data)"
   ]
  },
  {
   "cell_type": "code",
   "execution_count": 4,
   "metadata": {},
   "outputs": [
    {
     "name": "stdout",
     "output_type": "stream",
     "text": [
      "Election Data shape after selecting columns:  (3143, 38)\n"
     ]
    }
   ],
   "source": [
    "#list the desired columns for election data\n",
    "desired_columns = ['State', 'Fips', 'County', 'Precincts', 'Less Than High School Diploma',\\\n",
    "       'At Least High School Diploma', 'At Least Bachelors\\'s Degree', 'Graduate Degree', 'School Enrollment', \\\n",
    "       'Median Earnings 2010', 'Children Under 6 Living in Poverty',\n",
    "       'Adults 65 and Older Living in Poverty', 'Total Population',\\\n",
    "           'Poverty.Rate.below.federal.poverty.threshold', 'Gini.Coefficient', \\\n",
    "               'Management.professional.and.related.occupations',\n",
    "       'Service.occupations', 'Sales.and.office.occupations', \\\n",
    "           'Farming.fishing.and.forestry.occupations',\n",
    "       'Construction.extraction.maintenance.and.repair.occupations',\n",
    "       'Production.transportation.and.material.moving.occupations', 'White',\n",
    "       'Black', 'Hispanic', 'Asian', 'Amerindian', 'Other', 'White  Asian', \\\n",
    "           'Median Age', 'Poor.physical.health.days', 'Poor.mental.health.days', \\\n",
    "              'Adult.smoking', 'Adult.obesity', 'Diabetes', 'Sexually.transmitted.infections',\n",
    "       'HIV.prevalence.rate', 'Uninsured', 'Unemployment']\n",
    "\n",
    "#select only desired columns from dataset\n",
    "dataset = raw_dataset[desired_columns]    \n",
    "print('Election Data shape after selecting columns: ', dataset.shape)"
   ]
  },
  {
   "cell_type": "markdown",
   "metadata": {},
   "source": [
    "# Missing Values (Election Data)"
   ]
  },
  {
   "cell_type": "code",
   "execution_count": 5,
   "metadata": {},
   "outputs": [
    {
     "name": "stdout",
     "output_type": "stream",
     "text": [
      "Election Data Missing Value Percents: \n",
      "State                                                          0.000000\n",
      "Fips                                                           0.000000\n",
      "County                                                         0.000000\n",
      "Precincts                                                      1.018136\n",
      "Less Than High School Diploma                                  0.000000\n",
      "At Least High School Diploma                                   0.000000\n",
      "At Least Bachelors's Degree                                    0.000000\n",
      "Graduate Degree                                                0.000000\n",
      "School Enrollment                                              0.000000\n",
      "Median Earnings 2010                                           0.000000\n",
      "Children Under 6 Living in Poverty                             0.000000\n",
      "Adults 65 and Older Living in Poverty                          0.000000\n",
      "Total Population                                               0.000000\n",
      "Poverty.Rate.below.federal.poverty.threshold                   0.000000\n",
      "Gini.Coefficient                                               0.000000\n",
      "Management.professional.and.related.occupations                0.000000\n",
      "Service.occupations                                            0.000000\n",
      "Sales.and.office.occupations                                   0.000000\n",
      "Farming.fishing.and.forestry.occupations                       0.000000\n",
      "Construction.extraction.maintenance.and.repair.occupations     0.000000\n",
      "Production.transportation.and.material.moving.occupations      0.000000\n",
      "White                                                          0.000000\n",
      "Black                                                          0.000000\n",
      "Hispanic                                                       0.000000\n",
      "Asian                                                          0.000000\n",
      "Amerindian                                                     0.000000\n",
      "Other                                                          0.000000\n",
      "White  Asian                                                   0.000000\n",
      "Median Age                                                     0.000000\n",
      "Poor.physical.health.days                                     10.785873\n",
      "Poor.mental.health.days                                       17.721922\n",
      "Adult.smoking                                                 13.840280\n",
      "Adult.obesity                                                  0.159084\n",
      "Diabetes                                                       0.159084\n",
      "Sexually.transmitted.infections                                6.013363\n",
      "HIV.prevalence.rate                                           26.121540\n",
      "Uninsured                                                      0.190900\n",
      "Unemployment                                                   0.190900\n",
      "dtype: float64\n"
     ]
    }
   ],
   "source": [
    "#get missing value counts for columns\n",
    "missing_count = dataset.isnull().sum()\n",
    "\n",
    "# missing value percents for columns\n",
    "missing_count_percent = missing_count/dataset.shape[0]*100\n",
    "\n",
    "#print missing value percents\n",
    "print('Election Data Missing Value Percents: ')\n",
    "print(missing_count_percent)"
   ]
  },
  {
   "cell_type": "code",
   "execution_count": 6,
   "metadata": {},
   "outputs": [],
   "source": [
    "#drop HIV column due to 26% missing values and STD field being similar\n",
    "dataset = dataset.drop('HIV.prevalence.rate', axis=1)"
   ]
  },
  {
   "cell_type": "code",
   "execution_count": 7,
   "metadata": {},
   "outputs": [],
   "source": [
    "#get column averages to fill missing values\n",
    "col_avgs = dataset.mean()\n",
    "\n",
    "#fill in mean for missing values of remaining columns\n",
    "dataset = dataset.fillna(col_avgs)"
   ]
  },
  {
   "cell_type": "markdown",
   "metadata": {},
   "source": [
    "# Get Only Most Recent Date for Each FIPS Code"
   ]
  },
  {
   "cell_type": "code",
   "execution_count": 8,
   "metadata": {},
   "outputs": [],
   "source": [
    "#get only most recent date for each FIPS code\n",
    "def get_max_rows(df):\n",
    "    B_maxes = df.groupby('Admin 2 FIPS Code').Date.transform(max)\n",
    "    return df[df.Date == B_maxes] \n",
    "\n",
    "\n",
    "raw_dataset_covid = get_max_rows(raw_dataset_covid)"
   ]
  },
  {
   "cell_type": "markdown",
   "metadata": {},
   "source": [
    "# Selecting Desired Columns (Covid Data)"
   ]
  },
  {
   "cell_type": "code",
   "execution_count": 9,
   "metadata": {},
   "outputs": [],
   "source": [
    "#add fatality rate (deaths/cases) to data\n",
    "raw_dataset_covid['Fatality Rate']=raw_dataset_covid['Total Death']/raw_dataset_covid['Total Confirmed']\n",
    "raw_dataset_covid['Fatality Rate'] = raw_dataset_covid['Fatality Rate'].fillna(0) #set null fatality rate to 0"
   ]
  },
  {
   "cell_type": "code",
   "execution_count": 10,
   "metadata": {},
   "outputs": [
    {
     "name": "stdout",
     "output_type": "stream",
     "text": [
      "Covid Data Shape after selecting columns:  (3280, 6)\n"
     ]
    }
   ],
   "source": [
    "#pick out desired columns from raw data\n",
    "desired_columns = ['Admin 2 FIPS Code', 'Date', 'Total Death','Total Confirmed', 'Fatality Rate', 'location']\n",
    "\n",
    "dataset_covid = raw_dataset_covid[desired_columns]\n",
    "print('Covid Data Shape after selecting columns: ', dataset_covid.shape)"
   ]
  },
  {
   "cell_type": "markdown",
   "metadata": {},
   "source": [
    "# Missing Values (Covid Data)"
   ]
  },
  {
   "cell_type": "code",
   "execution_count": 11,
   "metadata": {},
   "outputs": [
    {
     "name": "stdout",
     "output_type": "stream",
     "text": [
      "Covid Data Missing Value Percents: \n",
      "Admin 2 FIPS Code    0.0\n",
      "Date                 0.0\n",
      "Total Death          0.0\n",
      "Total Confirmed      0.0\n",
      "Fatality Rate        0.0\n",
      "location             0.0\n",
      "dtype: float64\n"
     ]
    }
   ],
   "source": [
    "#get missing value counts for columns\n",
    "missing_count = dataset_covid.isnull().sum()\n",
    "\n",
    "# missing value percents for columns\n",
    "missing_count_percent = missing_count/dataset_covid.shape[0]*100\n",
    "\n",
    "#print missing value percents\n",
    "print('Covid Data Missing Value Percents: ')\n",
    "print(missing_count_percent)"
   ]
  },
  {
   "cell_type": "markdown",
   "metadata": {},
   "source": [
    "# Split location into Latitude and Longitide"
   ]
  },
  {
   "cell_type": "code",
   "execution_count": 12,
   "metadata": {},
   "outputs": [
    {
     "name": "stderr",
     "output_type": "stream",
     "text": [
      "<ipython-input-12-35e04b0df4c4>:5: SettingWithCopyWarning: \n",
      "A value is trying to be set on a copy of a slice from a DataFrame.\n",
      "Try using .loc[row_indexer,col_indexer] = value instead\n",
      "\n",
      "See the caveats in the documentation: https://pandas.pydata.org/pandas-docs/stable/user_guide/indexing.html#returning-a-view-versus-a-copy\n",
      "  dataset_covid['Latitude'] = new[0]\n"
     ]
    }
   ],
   "source": [
    "#split tuple into list by comma\n",
    "new = dataset_covid['location'].str.split(\",\", n=1, expand = True)\n",
    "\n",
    "#create new columns for each value\n",
    "dataset_covid['Latitude'] = new[0]\n",
    "dataset_covid['Longitude'] = new[1]\n",
    "\n",
    "#change column types from object to float\n",
    "dataset_covid['Latitude'] = dataset_covid['Latitude'].astype(float)\n",
    "dataset_covid['Longitude'] = dataset_covid['Longitude'].astype(float)\n",
    "\n",
    "#drop original location column\n",
    "dataset_covid = dataset_covid.drop('location',axis=1)"
   ]
  },
  {
   "cell_type": "markdown",
   "metadata": {},
   "source": [
    "# Joining Election & Covid Datasets together on FIPS Code"
   ]
  },
  {
   "cell_type": "code",
   "execution_count": 13,
   "metadata": {},
   "outputs": [],
   "source": [
    "#join the datasets together (inner join)\n",
    "df_merged = pd.merge(left = dataset, right=dataset_covid, left_on='Fips', right_on = 'Admin 2 FIPS Code', how='inner')\n",
    "\n",
    "#drop any duplicates that formed during the inner join\n",
    "df = df_merged.drop_duplicates()\n",
    "\n",
    "#drop redundant column (don't need both columns from join because they will always have same value)\n",
    "df= df.drop(['Admin 2 FIPS Code'], axis=1)"
   ]
  },
  {
   "cell_type": "markdown",
   "metadata": {},
   "source": [
    "# Add Positivity Rate"
   ]
  },
  {
   "cell_type": "code",
   "execution_count": 14,
   "metadata": {},
   "outputs": [],
   "source": [
    "df['Positivity Rate'] = df['Total Confirmed']/df['Total Population']"
   ]
  },
  {
   "cell_type": "markdown",
   "metadata": {},
   "source": [
    "# Add Risk Class"
   ]
  },
  {
   "cell_type": "code",
   "execution_count": 15,
   "metadata": {},
   "outputs": [
    {
     "name": "stdout",
     "output_type": "stream",
     "text": [
      "Positivty Rate (National Average):  0.0993371818466617\n",
      "Fatality Rate (National Average):  0.019584600179735845\n"
     ]
    }
   ],
   "source": [
    "#get the national average of positivity rate\n",
    "nat_avg_pos = df['Positivity Rate'].mean()\n",
    "nat_avg_fat = df['Fatality Rate'].mean()\n",
    "\n",
    "print('Positivty Rate (National Average): ', nat_avg_pos)\n",
    "print('Fatality Rate (National Average): ', nat_avg_fat)"
   ]
  },
  {
   "cell_type": "markdown",
   "metadata": {},
   "source": [
    "2-Class"
   ]
  },
  {
   "cell_type": "code",
   "execution_count": 16,
   "metadata": {
    "scrolled": true
   },
   "outputs": [
    {
     "name": "stdout",
     "output_type": "stream",
     "text": [
      "1    1573\n",
      "0    1567\n",
      "Name: high risk positivity, dtype: int64\n",
      "0    1779\n",
      "1    1361\n",
      "Name: high risk fatality, dtype: int64\n"
     ]
    }
   ],
   "source": [
    "def two_class(df, field, new_field_name):\n",
    "    #define high risk as areas where value is higher than national average\n",
    "    df[new_field_name] = np.where(df[field]>df[field].mean(), 1, 0)\n",
    "    #get the counts of each class\n",
    "    print(df[new_field_name].value_counts())\n",
    "    return df\n",
    "\n",
    "df = two_class(df, 'Positivity Rate', 'high risk positivity')\n",
    "df = two_class(df, 'Fatality Rate', 'high risk fatality')"
   ]
  },
  {
   "cell_type": "markdown",
   "metadata": {},
   "source": [
    "6-Class"
   ]
  },
  {
   "cell_type": "code",
   "execution_count": 17,
   "metadata": {},
   "outputs": [
    {
     "name": "stdout",
     "output_type": "stream",
     "text": [
      "3    1194\n",
      "2    1165\n",
      "1     309\n",
      "4     294\n",
      "0      93\n",
      "5      85\n",
      "Name: risk level positivity, dtype: int64\n",
      "2    1425\n",
      "3     935\n",
      "1     354\n",
      "4     317\n",
      "5     109\n",
      "0       0\n",
      "Name: risk level fatality, dtype: int64\n"
     ]
    }
   ],
   "source": [
    "def between(num, low, high):\n",
    "    return( num >= low) & (num < high)\n",
    "\n",
    "\n",
    "def six_class(df, field, new_field_name):\n",
    "    #get mean and standard deviation\n",
    "    avg = df[field].mean()\n",
    "    std = df[field].std()\n",
    "    \n",
    "    #get class threshold values\n",
    "    thres1 = avg + 2*std\n",
    "    thres2 = avg + std\n",
    "    thres3 = avg\n",
    "    thres4 = avg - std\n",
    "    thres5 = avg - (2*std)\n",
    "\n",
    "    #add new class columns\n",
    "    df[new_field_name] = pd.cut(df[field],bins=[-1, thres5, thres4, thres3, thres2, thres1,2], labels=[0,1,2,3,4,5])\n",
    "\n",
    "    #get the counts of each class\n",
    "    print(df[new_field_name].value_counts())\n",
    "\n",
    "    \n",
    "    \n",
    "    return df\n",
    "\n",
    "\n",
    "df = six_class(df, 'Positivity Rate', 'risk level positivity')\n",
    "df = six_class(df, 'Fatality Rate', 'risk level fatality')\n"
   ]
  },
  {
   "cell_type": "markdown",
   "metadata": {},
   "source": [
    "# Dataset Before Normalization"
   ]
  },
  {
   "cell_type": "code",
   "execution_count": 18,
   "metadata": {},
   "outputs": [
    {
     "name": "stdout",
     "output_type": "stream",
     "text": [
      "               State   Fips                           County  Precincts  \\\n",
      "0            Georgia  13231             Pike County, Georgia        8.0   \n",
      "1               Utah  49051             Wasatch County, Utah       38.0   \n",
      "2         Washington  53021      Franklin County, Washington       15.0   \n",
      "3           Nebraska  31119         Madison County, Nebraska       22.0   \n",
      "4            Florida  12045             Gulf County, Florida        9.0   \n",
      "...              ...    ...                              ...        ...   \n",
      "3135       Tennessee  47131          Obion County, Tennessee       12.0   \n",
      "3136        Michigan  26099          Macomb County, Michigan      337.0   \n",
      "3137   West Virginia  54007    Braxton County, West Virginia       18.0   \n",
      "3138  North Carolina  37121  Mitchell County, North Carolina        9.0   \n",
      "3139        Maryland  24019      Dorchester County, Maryland       39.0   \n",
      "\n",
      "      Less Than High School Diploma  At Least High School Diploma  \\\n",
      "0                              17.0                          83.0   \n",
      "1                               9.0                          91.0   \n",
      "2                              32.4                          67.6   \n",
      "3                              13.9                          86.1   \n",
      "4                              22.3                          77.7   \n",
      "...                             ...                           ...   \n",
      "3135                           20.1                          79.9   \n",
      "3136                           12.4                          87.6   \n",
      "3137                           26.1                          73.9   \n",
      "3138                           23.5                          76.5   \n",
      "3139                           19.0                          81.0   \n",
      "\n",
      "      At Least Bachelors's Degree  Graduate Degree  School Enrollment  \\\n",
      "0                            15.7              5.9              77.95   \n",
      "1                            31.1             11.2              74.20   \n",
      "2                            14.6              4.6              68.95   \n",
      "3                            20.0              5.5              77.20   \n",
      "4                            13.6              5.8              70.40   \n",
      "...                           ...              ...                ...   \n",
      "3135                         11.9              3.5              75.50   \n",
      "3136                         21.8              7.6              80.25   \n",
      "3137                          9.5              3.1              66.95   \n",
      "3138                         14.4              4.9              73.65   \n",
      "3139                         16.5              6.8              71.60   \n",
      "\n",
      "      Median Earnings 2010  ...  Total Death  Total Confirmed  Fatality Rate  \\\n",
      "0             28673.490475  ...           40             2249       0.017786   \n",
      "1             28934.628255  ...           21             4596       0.004569   \n",
      "2             22461.965715  ...          109            12114       0.008998   \n",
      "3             24901.171745  ...           42             4209       0.009979   \n",
      "4             25476.323810  ...           42             1949       0.021550   \n",
      "...                    ...  ...          ...              ...            ...   \n",
      "3135          24617.460635  ...           96             4516       0.021258   \n",
      "3136          31933.342855  ...         2192            93420       0.023464   \n",
      "3137          22847.853015  ...            3              886       0.003386   \n",
      "3138          23144.238730  ...           16             1391       0.011503   \n",
      "3139          27511.788255  ...           50             2685       0.018622   \n",
      "\n",
      "       Latitude   Longitude  Positivity Rate  high risk positivity  \\\n",
      "0     33.093102  -84.387904         0.128956                     1   \n",
      "1     40.331102 -111.169142         0.209633                     1   \n",
      "2     46.533514 -118.901821         0.163791                     1   \n",
      "3     41.916760  -97.600548         0.120945                     1   \n",
      "4     29.935430  -85.242710         0.123448                     1   \n",
      "...         ...         ...              ...                   ...   \n",
      "3135  36.357324  -89.149216         0.142425                     1   \n",
      "3136  42.691584  -82.927528         0.111917                     1   \n",
      "3137  38.700362  -80.720112         0.060944                     0   \n",
      "3138  36.010593  -82.158244         0.088973                     0   \n",
      "3139  38.454135  -76.027524         0.083562                     0   \n",
      "\n",
      "      high risk fatality  risk level positivity  risk level fatality  \n",
      "0                      0                      3                    2  \n",
      "1                      0                      5                    1  \n",
      "2                      0                      5                    1  \n",
      "3                      0                      3                    2  \n",
      "4                      1                      3                    3  \n",
      "...                  ...                    ...                  ...  \n",
      "3135                   1                      4                    3  \n",
      "3136                   1                      3                    3  \n",
      "3137                   0                      1                    1  \n",
      "3138                   0                      2                    2  \n",
      "3139                   0                      2                    2  \n",
      "\n",
      "[3140 rows x 48 columns]\n"
     ]
    }
   ],
   "source": [
    "print(df)"
   ]
  },
  {
   "cell_type": "code",
   "execution_count": 19,
   "metadata": {},
   "outputs": [
    {
     "data": {
      "image/png": "[encoded data removed]",
      "text/plain": [
       "<Figure size 432x288 with 1 Axes>"
      ]
     },
     "metadata": {
      "needs_background": "light"
     },
     "output_type": "display_data"
    }
   ],
   "source": [
    "import matplotlib.pyplot as plt\n",
    "\n",
    "plt.scatter(df['Positivity Rate'], df['Fatality Rate'])\n",
    "plt.title('Fatality Rate vs. Positivity Rate')\n",
    "plt.xlabel('Positivity Rate')\n",
    "plt.ylabel('Fatality Rate')\n",
    "plt.show()"
   ]
  },
  {
   "cell_type": "markdown",
   "metadata": {},
   "source": [
    "# Normalization"
   ]
  },
  {
   "cell_type": "code",
   "execution_count": 20,
   "metadata": {},
   "outputs": [],
   "source": [
    "#define function for normalizing data\n",
    "def normalize_data(df, norm_type = 'mean', norm_min=0, norm_max=1):\n",
    "    #get only numeric columns\n",
    "    df_num = df.select_dtypes(include=[np.number])\n",
    "    \n",
    "    if norm_type == 'mean': #mean normalization\n",
    "        df_norm=(df_num-df_num.mean())/df_num.std()\n",
    "\n",
    "    else: #min max normalization\n",
    "        df_norm=(df_num-df_num.min())/(df_num.max()-df_num.min())\n",
    "        span = norm_max-norm_min\n",
    "        midpoint = span/2 - (norm_max + norm_min)/2 \n",
    "        df_norm = df_norm*(span)-midpoint #adjust from 0-1 to desired range\n",
    "        \n",
    "    #add categorical columns back in\n",
    "    df[df_norm.columns] = df_norm\n",
    "    return df"
   ]
  },
  {
   "cell_type": "code",
   "execution_count": 21,
   "metadata": {},
   "outputs": [],
   "source": [
    "#normalize the data (start at column 2 so FIPS code is not normalized)\n",
    "df.iloc[:,2:] = normalize_data(df.iloc[:,2:], 'min_max',norm_min=0,norm_max=1)"
   ]
  },
  {
   "cell_type": "markdown",
   "metadata": {},
   "source": [
    "# Final Dataset"
   ]
  },
  {
   "cell_type": "code",
   "execution_count": 22,
   "metadata": {
    "scrolled": true
   },
   "outputs": [
    {
     "name": "stdout",
     "output_type": "stream",
     "text": [
      "            State   Fips                        County  Precincts  \\\n",
      "0         Georgia  13231          Pike County, Georgia   0.001404   \n",
      "1            Utah  49051          Wasatch County, Utah   0.007419   \n",
      "2      Washington  53021   Franklin County, Washington   0.002807   \n",
      "3        Nebraska  31119      Madison County, Nebraska   0.004211   \n",
      "4         Florida  12045          Gulf County, Florida   0.001604   \n",
      "5         Georgia  13267      Tattnall County, Georgia   0.001404   \n",
      "6       Wisconsin  55083      Oconto County, Wisconsin   0.005414   \n",
      "7         Alabama   1059      Franklin County, Alabama   0.005013   \n",
      "8      Washington  53015    Cowlitz County, Washington   0.005815   \n",
      "9        Missouri  29061      Daviess County, Missouri   0.001203   \n",
      "10    Mississippi  28033    DeSoto County, Mississippi   0.007620   \n",
      "11        Montana  30007    Broadwater County, Montana   0.000802   \n",
      "12      Wisconsin  55041      Forest County, Wisconsin   0.003008   \n",
      "13  West Virginia  54055  Mercer County, West Virginia   0.009425   \n",
      "14       Missouri  29081     Harrison County, Missouri   0.001203   \n",
      "15        Alabama   1117        Shelby County, Alabama   0.009625   \n",
      "16     California   6115       Yuba County, California   0.008823   \n",
      "17       Illinois  17137       Morgan County, Illinois   0.007820   \n",
      "18       Nebraska  31163      Sherman County, Nebraska   0.001003   \n",
      "19         Oregon  41011           Coos County, Oregon   0.003409   \n",
      "\n",
      "    Less Than High School Diploma  At Least High School Diploma  \\\n",
      "0                        0.317121                      0.765130   \n",
      "1                        0.161479                      0.880403   \n",
      "2                        0.616732                      0.543228   \n",
      "3                        0.256809                      0.809798   \n",
      "4                        0.420233                      0.688761   \n",
      "5                        0.492218                      0.635447   \n",
      "6                        0.235409                      0.825648   \n",
      "7                        0.577821                      0.572046   \n",
      "8                        0.256809                      0.809798   \n",
      "9                        0.297665                      0.779539   \n",
      "10                       0.231518                      0.828530   \n",
      "11                       0.184825                      0.863112   \n",
      "12                       0.266537                      0.802594   \n",
      "13                       0.392996                      0.708934   \n",
      "14                       0.285992                      0.788184   \n",
      "15                       0.151751                      0.887608   \n",
      "16                       0.435798                      0.677233   \n",
      "17                       0.249027                      0.815562   \n",
      "18                       0.225681                      0.832853   \n",
      "19                       0.262646                      0.805476   \n",
      "\n",
      "    At Least Bachelors's Degree  Graduate Degree  School Enrollment  \\\n",
      "0                      0.178306         0.145320             0.7795   \n",
      "1                      0.407132         0.275862             0.7420   \n",
      "2                      0.161961         0.113300             0.6895   \n",
      "3                      0.242199         0.135468             0.7720   \n",
      "4                      0.147103         0.142857             0.7040   \n",
      "5                      0.121842         0.118227             0.6400   \n",
      "6                      0.141159         0.086207             0.7525   \n",
      "7                      0.120357         0.103448             0.6890   \n",
      "8                      0.163447         0.115764             0.7475   \n",
      "9                      0.158990         0.108374             0.7385   \n",
      "10                     0.258544         0.152709             0.7735   \n",
      "11                     0.170877         0.068966             0.8425   \n",
      "12                     0.123328         0.110837             0.6890   \n",
      "13                     0.188707         0.140394             0.7235   \n",
      "14                     0.057949         0.051724             0.7135   \n",
      "15                     0.533432         0.300493             0.8090   \n",
      "16                     0.130758         0.076355             0.7145   \n",
      "17                     0.245171         0.192118             0.7995   \n",
      "18                     0.178306         0.098522             0.7495   \n",
      "19                     0.216939         0.147783             0.7220   \n",
      "\n",
      "    Median Earnings 2010  ...  Total Death  Total Confirmed  Fatality Rate  \\\n",
      "0               0.505934  ...     0.001680         0.001825       0.173410   \n",
      "1               0.510542  ...     0.000882         0.003730       0.044550   \n",
      "2               0.396334  ...     0.004579         0.009832       0.087729   \n",
      "3               0.439373  ...     0.001764         0.003416       0.097292   \n",
      "4               0.449521  ...     0.001764         0.001582       0.210108   \n",
      "5               0.386085  ...     0.002731         0.001863       0.276024   \n",
      "6               0.506838  ...     0.002479         0.003993       0.116921   \n",
      "7               0.380824  ...     0.003445         0.003430       0.189186   \n",
      "8               0.477020  ...     0.003487         0.004534       0.144845   \n",
      "9               0.440891  ...     0.000462         0.000567       0.153433   \n",
      "10              0.568465  ...     0.010712         0.017237       0.117066   \n",
      "11              0.366305  ...     0.000210         0.000392       0.100932   \n",
      "12              0.391817  ...     0.001092         0.000833       0.247076   \n",
      "13              0.395698  ...     0.004873         0.003770       0.243488   \n",
      "14              0.391387  ...     0.000588         0.000710       0.156000   \n",
      "15              0.658797  ...     0.010334         0.018907       0.102958   \n",
      "16              0.432144  ...     0.001848         0.005004       0.069586   \n",
      "17              0.418308  ...     0.003319         0.003089       0.202378   \n",
      "18              0.407889  ...     0.000168         0.000155       0.204188   \n",
      "19              0.384864  ...     0.001344         0.001636       0.154762   \n",
      "\n",
      "    Latitude  Longitude  Positivity Rate  high risk positivity  \\\n",
      "0   0.271392   0.842678         0.362045                   1.0   \n",
      "1   0.416986   0.591285         0.588545                   1.0   \n",
      "2   0.541749   0.518699         0.459843                   1.0   \n",
      "3   0.448882   0.718652         0.339552                   1.0   \n",
      "4   0.207875   0.834654         0.346580                   1.0   \n",
      "5   0.250367   0.864573         0.264019                   0.0   \n",
      "6   0.511449   0.806255         0.368648                   1.0   \n",
      "7   0.298533   0.810246         0.379360                   1.0   \n",
      "8   0.534855   0.483250         0.155084                   0.0   \n",
      "9   0.409551   0.752589         0.237958                   0.0   \n",
      "10  0.307261   0.790083         0.384624                   1.0   \n",
      "11  0.537712   0.588221         0.265522                   0.0   \n",
      "12  0.524315   0.801536         0.302128                   1.0   \n",
      "13  0.358123   0.873445         0.210822                   0.0   \n",
      "14  0.417481   0.752523         0.277483                   0.0   \n",
      "15  0.274927   0.821328         0.345977                   1.0   \n",
      "16  0.395492   0.495685         0.241971                   0.0   \n",
      "17  0.404625   0.788096         0.301650                   1.0   \n",
      "18  0.434876   0.705742         0.175411                   0.0   \n",
      "19  0.474173   0.470285         0.089646                   0.0   \n",
      "\n",
      "    high risk fatality  risk level positivity  risk level fatality  \n",
      "0                  0.0                      3                    2  \n",
      "1                  0.0                      5                    1  \n",
      "2                  0.0                      5                    1  \n",
      "3                  0.0                      3                    2  \n",
      "4                  1.0                      3                    3  \n",
      "5                  1.0                      2                    3  \n",
      "6                  0.0                      3                    2  \n",
      "7                  0.0                      4                    2  \n",
      "8                  0.0                      1                    2  \n",
      "9                  0.0                      2                    2  \n",
      "10                 0.0                      4                    2  \n",
      "11                 0.0                      2                    2  \n",
      "12                 1.0                      3                    3  \n",
      "13                 1.0                      2                    3  \n",
      "14                 0.0                      2                    2  \n",
      "15                 0.0                      3                    2  \n",
      "16                 0.0                      2                    1  \n",
      "17                 1.0                      3                    3  \n",
      "18                 1.0                      1                    3  \n",
      "19                 0.0                      0                    2  \n",
      "\n",
      "[20 rows x 48 columns]\n"
     ]
    }
   ],
   "source": [
    "print(df.head(20))"
   ]
  },
  {
   "cell_type": "markdown",
   "metadata": {},
   "source": [
    "# Logistic Regression: Binary Classification"
   ]
  },
  {
   "cell_type": "code",
   "execution_count": 23,
   "metadata": {},
   "outputs": [
    {
     "name": "stdout",
     "output_type": "stream",
     "text": [
      "<class 'pandas.core.frame.DataFrame'>\n",
      "Int64Index: 3140 entries, 0 to 3139\n",
      "Data columns (total 39 columns):\n",
      " #   Column                                                      Non-Null Count  Dtype  \n",
      "---  ------                                                      --------------  -----  \n",
      " 0   Precincts                                                   3140 non-null   float64\n",
      " 1   Less Than High School Diploma                               3140 non-null   float64\n",
      " 2   At Least High School Diploma                                3140 non-null   float64\n",
      " 3   At Least Bachelors's Degree                                 3140 non-null   float64\n",
      " 4   Graduate Degree                                             3140 non-null   float64\n",
      " 5   School Enrollment                                           3140 non-null   float64\n",
      " 6   Median Earnings 2010                                        3140 non-null   float64\n",
      " 7   Children Under 6 Living in Poverty                          3140 non-null   float64\n",
      " 8   Adults 65 and Older Living in Poverty                       3140 non-null   float64\n",
      " 9   Total Population                                            3140 non-null   float64\n",
      " 10  Poverty.Rate.below.federal.poverty.threshold                3140 non-null   float64\n",
      " 11  Gini.Coefficient                                            3140 non-null   float64\n",
      " 12  Management.professional.and.related.occupations             3140 non-null   float64\n",
      " 13  Service.occupations                                         3140 non-null   float64\n",
      " 14  Sales.and.office.occupations                                3140 non-null   float64\n",
      " 15  Farming.fishing.and.forestry.occupations                    3140 non-null   float64\n",
      " 16  Construction.extraction.maintenance.and.repair.occupations  3140 non-null   float64\n",
      " 17  Production.transportation.and.material.moving.occupations   3140 non-null   float64\n",
      " 18  White                                                       3140 non-null   float64\n",
      " 19  Black                                                       3140 non-null   float64\n",
      " 20  Hispanic                                                    3140 non-null   float64\n",
      " 21  Asian                                                       3140 non-null   float64\n",
      " 22  Amerindian                                                  3140 non-null   float64\n",
      " 23  Other                                                       3140 non-null   float64\n",
      " 24  White  Asian                                                3140 non-null   float64\n",
      " 25  Median Age                                                  3140 non-null   float64\n",
      " 26  Poor.physical.health.days                                   3140 non-null   float64\n",
      " 27  Poor.mental.health.days                                     3140 non-null   float64\n",
      " 28  Adult.smoking                                               3140 non-null   float64\n",
      " 29  Adult.obesity                                               3140 non-null   float64\n",
      " 30  Diabetes                                                    3140 non-null   float64\n",
      " 31  Sexually.transmitted.infections                             3140 non-null   float64\n",
      " 32  Uninsured                                                   3140 non-null   float64\n",
      " 33  Unemployment                                                3140 non-null   float64\n",
      " 34  Total Death                                                 3140 non-null   float64\n",
      " 35  Total Confirmed                                             3140 non-null   float64\n",
      " 36  Fatality Rate                                               3140 non-null   float64\n",
      " 37  Latitude                                                    3140 non-null   float64\n",
      " 38  Longitude                                                   3140 non-null   float64\n",
      "dtypes: float64(39)\n",
      "memory usage: 981.2 KB\n",
      "(3140, 39)\n",
      "<class 'pandas.core.frame.DataFrame'>\n",
      "Int64Index: 3140 entries, 0 to 3139\n",
      "Data columns (total 39 columns):\n",
      " #   Column                                                      Non-Null Count  Dtype  \n",
      "---  ------                                                      --------------  -----  \n",
      " 0   Precincts                                                   3140 non-null   float64\n",
      " 1   Less Than High School Diploma                               3140 non-null   float64\n",
      " 2   At Least High School Diploma                                3140 non-null   float64\n",
      " 3   At Least Bachelors's Degree                                 3140 non-null   float64\n",
      " 4   Graduate Degree                                             3140 non-null   float64\n",
      " 5   School Enrollment                                           3140 non-null   float64\n",
      " 6   Median Earnings 2010                                        3140 non-null   float64\n",
      " 7   Children Under 6 Living in Poverty                          3140 non-null   float64\n",
      " 8   Adults 65 and Older Living in Poverty                       3140 non-null   float64\n",
      " 9   Total Population                                            3140 non-null   float64\n",
      " 10  Poverty.Rate.below.federal.poverty.threshold                3140 non-null   float64\n",
      " 11  Gini.Coefficient                                            3140 non-null   float64\n",
      " 12  Management.professional.and.related.occupations             3140 non-null   float64\n",
      " 13  Service.occupations                                         3140 non-null   float64\n",
      " 14  Sales.and.office.occupations                                3140 non-null   float64\n",
      " 15  Farming.fishing.and.forestry.occupations                    3140 non-null   float64\n",
      " 16  Construction.extraction.maintenance.and.repair.occupations  3140 non-null   float64\n",
      " 17  Production.transportation.and.material.moving.occupations   3140 non-null   float64\n",
      " 18  White                                                       3140 non-null   float64\n",
      " 19  Black                                                       3140 non-null   float64\n",
      " 20  Hispanic                                                    3140 non-null   float64\n",
      " 21  Asian                                                       3140 non-null   float64\n",
      " 22  Amerindian                                                  3140 non-null   float64\n",
      " 23  Other                                                       3140 non-null   float64\n",
      " 24  White  Asian                                                3140 non-null   float64\n",
      " 25  Median Age                                                  3140 non-null   float64\n",
      " 26  Poor.physical.health.days                                   3140 non-null   float64\n",
      " 27  Poor.mental.health.days                                     3140 non-null   float64\n",
      " 28  Adult.smoking                                               3140 non-null   float64\n",
      " 29  Adult.obesity                                               3140 non-null   float64\n",
      " 30  Diabetes                                                    3140 non-null   float64\n",
      " 31  Sexually.transmitted.infections                             3140 non-null   float64\n",
      " 32  Uninsured                                                   3140 non-null   float64\n",
      " 33  Unemployment                                                3140 non-null   float64\n",
      " 34  Total Death                                                 3140 non-null   float64\n",
      " 35  Total Confirmed                                             3140 non-null   float64\n",
      " 36  Latitude                                                    3140 non-null   float64\n",
      " 37  Longitude                                                   3140 non-null   float64\n",
      " 38  Positivity Rate                                             3140 non-null   float64\n",
      "dtypes: float64(39)\n",
      "memory usage: 981.2 KB\n",
      "(3140, 39)\n"
     ]
    }
   ],
   "source": [
    "from sklearn.linear_model import LogisticRegression\n",
    "from sklearn import metrics\n",
    "from sklearn.model_selection import train_test_split, cross_val_score\n",
    "from sklearn.metrics import accuracy_score, classification_report, precision_score, recall_score \n",
    "from sklearn.metrics import confusion_matrix, precision_recall_curve, roc_curve, auc, log_loss\n",
    "import matplotlib.pyplot as plt \n",
    "%matplotlib inline\n",
    "\n",
    "#positivity rate binary classification\n",
    "#drop all the classes, state, county, date, Fips, positivity rate \n",
    "data_p = df.drop(['State', 'County', 'Date', 'Fips', 'Positivity Rate', 'high risk positivity', \n",
    "                'high risk fatality','risk level positivity', 'risk level fatality'], axis = 1)\n",
    "#drop all the classes, state, county, date, Fips, fatality rate \n",
    "data_f = df.drop(['State', 'County', 'Date', 'Fips', 'Fatality Rate', 'high risk positivity', \n",
    "                'high risk fatality','risk level positivity', 'risk level fatality'], axis = 1)\n",
    "#binary: 0 for low risk, 1 for high risk\n",
    "label_pos_bin = df['high risk positivity']\n",
    "#label_pos_mul = df['risk level positivity']\n",
    "label_fat_bin = df['high risk fatality']\n",
    "#label_fat_mul = df['risk level fatality']\n",
    "data_p.info()\n",
    "print(data_p.shape)\n",
    "data_f.info()\n",
    "print(data_f.shape)"
   ]
  },
  {
   "cell_type": "code",
   "execution_count": 24,
   "metadata": {},
   "outputs": [
    {
     "data": {
      "text/plain": [
       "Text(0, 0.5, 'High Risk')"
      ]
     },
     "execution_count": 24,
     "metadata": {},
     "output_type": "execute_result"
    },
    {
     "data": {
      "image/png": "[encoded data removed]",
      "text/plain": [
       "<Figure size 432x288 with 1 Axes>"
      ]
     },
     "metadata": {
      "needs_background": "light"
     },
     "output_type": "display_data"
    }
   ],
   "source": [
    "#scatterplot of positivity rate with class\n",
    "plt.scatter(df['Positivity Rate'], df['high risk positivity'], marker = '+', color = 'blue')\n",
    "plt.xlabel('Positivity Rate')\n",
    "plt.ylabel('High Risk')"
   ]
  },
  {
   "cell_type": "code",
   "execution_count": 25,
   "metadata": {},
   "outputs": [
    {
     "data": {
      "text/plain": [
       "Text(0, 0.5, 'High Risk')"
      ]
     },
     "execution_count": 25,
     "metadata": {},
     "output_type": "execute_result"
    },
    {
     "data": {
      "image/png": "[encoded data removed]",
      "text/plain": [
       "<Figure size 432x288 with 1 Axes>"
      ]
     },
     "metadata": {
      "needs_background": "light"
     },
     "output_type": "display_data"
    }
   ],
   "source": [
    "#scatterplot of Fatality rate with class\n",
    "plt.scatter(df['Fatality Rate'], df['high risk fatality'], marker = '+', color = 'red')\n",
    "plt.xlabel('Fatality Rate')\n",
    "plt.ylabel('High Risk')"
   ]
  },
  {
   "cell_type": "markdown",
   "metadata": {},
   "source": [
    "# Positivity Rate with binary classification"
   ]
  },
  {
   "cell_type": "code",
   "execution_count": 26,
   "metadata": {},
   "outputs": [
    {
     "name": "stdout",
     "output_type": "stream",
     "text": [
      "Testing Accuracy: \n",
      " 0.7038216560509554\n",
      "\n",
      "\n",
      "Training Accuracy: \n",
      " 0.7009907997169144\n"
     ]
    }
   ],
   "source": [
    "#spliting testing and training set\n",
    "x_train, x_test, y_train, y_test = train_test_split(data_p, label_pos_bin, random_state = 0, test_size = 0.10)\n",
    "\n",
    "#train the model \n",
    "model_pos_bin = LogisticRegression(max_iter = 500)\n",
    "model_pos_bin.fit(x_train, y_train)\n",
    "\n",
    "#predict the testing data, accuracy\n",
    "pred_pos_bin = model_pos_bin.predict(x_test)\n",
    "test_acc_pos_bin =  metrics.accuracy_score(pred_pos_bin, y_test)\n",
    "print('Testing Accuracy: \\n', test_acc_pos_bin)\n",
    "print('\\n')\n",
    "#accuracy score the training data\n",
    "train_acc_pos_bin = model_pos_bin.score(x_train, y_train)\n",
    "print('Training Accuracy: \\n', train_acc_pos_bin)\n"
   ]
  },
  {
   "cell_type": "code",
   "execution_count": 27,
   "metadata": {},
   "outputs": [
    {
     "name": "stdout",
     "output_type": "stream",
     "text": [
      "Confusion Matrix\n",
      " [[111  40]\n",
      " [ 53 110]]\n",
      "\n",
      "\n",
      "Classification Report\n",
      "               precision    recall  f1-score   support\n",
      "\n",
      "         0.0       0.68      0.74      0.70       151\n",
      "         1.0       0.73      0.67      0.70       163\n",
      "\n",
      "    accuracy                           0.70       314\n",
      "   macro avg       0.71      0.70      0.70       314\n",
      "weighted avg       0.71      0.70      0.70       314\n",
      "\n"
     ]
    }
   ],
   "source": [
    "from sklearn.metrics import confusion_matrix\n",
    "\n",
    "print('Confusion Matrix\\n', confusion_matrix(pred_pos_bin, y_test))\n",
    "print('\\n')\n",
    "print('Classification Report\\n', classification_report(pred_pos_bin, y_test))"
   ]
  },
  {
   "cell_type": "code",
   "execution_count": 28,
   "metadata": {
    "scrolled": false
   },
   "outputs": [
    {
     "name": "stdout",
     "output_type": "stream",
     "text": [
      "Gini.Coefficient                                              2.692240\n",
      "Less Than High School Diploma                                 2.348532\n",
      "Production.transportation.and.material.moving.occupations     2.234238\n",
      "Amerindian                                                    2.233836\n",
      "Total Confirmed                                               1.533001\n",
      "Adult.obesity                                                 1.480317\n",
      "Adults 65 and Older Living in Poverty                         1.374347\n",
      "Sexually.transmitted.infections                               1.365952\n",
      "Total Death                                                   1.196754\n",
      "Sales.and.office.occupations                                  0.963653\n",
      "At Least Bachelors's Degree                                   0.858170\n",
      "Hispanic                                                      0.670128\n",
      "Median Earnings 2010                                          0.650514\n",
      "School Enrollment                                             0.489561\n",
      "White                                                         0.148674\n",
      "Total Population                                             -0.204548\n",
      "Uninsured                                                    -0.234097\n",
      "Longitude                                                    -0.286271\n",
      "Precincts                                                    -0.304424\n",
      "Service.occupations                                          -0.381693\n",
      "Children Under 6 Living in Poverty                           -0.550054\n",
      "White  Asian                                                 -0.553414\n",
      "Poor.physical.health.days                                    -0.690504\n",
      "Diabetes                                                     -0.760189\n",
      "Management.professional.and.related.occupations              -0.795809\n",
      "At Least High School Diploma                                 -0.862480\n",
      "Other                                                        -0.982011\n",
      "Poor.mental.health.days                                      -1.176672\n",
      "Fatality Rate                                                -1.188324\n",
      "Asian                                                        -1.588666\n",
      "Black                                                        -1.702991\n",
      "Poverty.Rate.below.federal.poverty.threshold                 -1.728566\n",
      "Adult.smoking                                                -1.735058\n",
      "Latitude                                                     -2.031665\n",
      "Farming.fishing.and.forestry.occupations                     -2.105335\n",
      "Construction.extraction.maintenance.and.repair.occupations   -2.106922\n",
      "Unemployment                                                 -2.819728\n",
      "Median Age                                                   -3.180905\n",
      "Graduate Degree                                              -4.095708\n",
      "dtype: float64\n"
     ]
    }
   ],
   "source": [
    "#weight on each features: coef_[0] is for class 1, coef_[-1] is for class 0 \n",
    "weight = pd.Series(model_pos_bin.coef_[0], index=data_p.columns.values)\n",
    "print(weight.sort_values(ascending=False))"
   ]
  },
  {
   "cell_type": "code",
   "execution_count": 29,
   "metadata": {},
   "outputs": [
    {
     "name": "stdout",
     "output_type": "stream",
     "text": [
      "ROC/AUC Curve\n"
     ]
    },
    {
     "data": {
      "image/png": "[encoded data removed]",
      "text/plain": [
       "<Figure size 500x500 with 1 Axes>"
      ]
     },
     "metadata": {
      "needs_background": "light"
     },
     "output_type": "display_data"
    }
   ],
   "source": [
    "#Plot ROC Curve with AUC score\n",
    "logistic_fpr, logistic_tpr, threshold = roc_curve(y_test, pred_pos_bin)\n",
    "auc_logistic = auc(logistic_fpr, logistic_tpr)\n",
    "\n",
    "plt.figure(figsize=(5, 5), dpi=100)\n",
    "plt.plot(logistic_fpr, logistic_tpr, marker='.', label='Logistic (auc = %0.3f)' % auc_logistic)\n",
    "\n",
    "plt.xlabel('False Positive Rate -->')\n",
    "plt.ylabel('True Positive Rate -->')\n",
    "\n",
    "plt.legend()\n",
    "print('ROC/AUC Curve')\n",
    "plt.show()"
   ]
  },
  {
   "cell_type": "markdown",
   "metadata": {},
   "source": [
    "# Fatality Rate with binary classification"
   ]
  },
  {
   "cell_type": "code",
   "execution_count": 30,
   "metadata": {},
   "outputs": [
    {
     "name": "stdout",
     "output_type": "stream",
     "text": [
      "Testing Accuracy: \n",
      " 0.7133757961783439\n",
      "\n",
      "\n",
      "Training Accuracy: \n",
      " 0.686482661004954\n"
     ]
    }
   ],
   "source": [
    "#spliting testing and training set\n",
    "x_train, x_test, y_train, y_test = train_test_split(data_f, label_fat_bin, random_state = 0, test_size = 0.10)\n",
    "\n",
    "#train the model \n",
    "model_fat_bin = LogisticRegression(max_iter=200)\n",
    "model_fat_bin.fit(x_train, y_train)\n",
    "\n",
    "#predict the testing data, accuracy\n",
    "pred_fat_bin = model_fat_bin.predict(x_test)\n",
    "test_acc_fat_bin =  metrics.accuracy_score(pred_fat_bin, y_test)\n",
    "print('Testing Accuracy: \\n', test_acc_fat_bin)\n",
    "print('\\n')\n",
    "#accuracy score the training data\n",
    "train_acc_fat_bin = model_fat_bin.score(x_train, y_train)\n",
    "print('Training Accuracy: \\n', train_acc_fat_bin)"
   ]
  },
  {
   "cell_type": "code",
   "execution_count": 31,
   "metadata": {},
   "outputs": [
    {
     "name": "stdout",
     "output_type": "stream",
     "text": [
      "Confusion Matrix\n",
      " [[149  59]\n",
      " [ 31  75]]\n",
      "\n",
      "\n",
      "Classification Report\n",
      "               precision    recall  f1-score   support\n",
      "\n",
      "         0.0       0.83      0.72      0.77       208\n",
      "         1.0       0.56      0.71      0.62       106\n",
      "\n",
      "    accuracy                           0.71       314\n",
      "   macro avg       0.69      0.71      0.70       314\n",
      "weighted avg       0.74      0.71      0.72       314\n",
      "\n"
     ]
    }
   ],
   "source": [
    "from sklearn.metrics import confusion_matrix\n",
    "print('Confusion Matrix\\n', confusion_matrix(pred_fat_bin, y_test))\n",
    "print('\\n')\n",
    "print('Classification Report\\n', classification_report(pred_fat_bin, y_test))"
   ]
  },
  {
   "cell_type": "code",
   "execution_count": 32,
   "metadata": {},
   "outputs": [
    {
     "name": "stdout",
     "output_type": "stream",
     "text": [
      "Median Age                                                    3.830289\n",
      "Diabetes                                                      2.474467\n",
      "School Enrollment                                             2.024323\n",
      "Longitude                                                     1.875049\n",
      "Gini.Coefficient                                              1.528629\n",
      "Total Death                                                   1.429731\n",
      "Hispanic                                                      1.311868\n",
      "Children Under 6 Living in Poverty                            0.836583\n",
      "Management.professional.and.related.occupations               0.675038\n",
      "Adults 65 and Older Living in Poverty                         0.644732\n",
      "Sexually.transmitted.infections                               0.589235\n",
      "Production.transportation.and.material.moving.occupations     0.483886\n",
      "Uninsured                                                     0.453224\n",
      "Median Earnings 2010                                          0.403614\n",
      "Amerindian                                                    0.334617\n",
      "Less Than High School Diploma                                 0.224782\n",
      "Service.occupations                                           0.213698\n",
      "Adult.obesity                                                 0.195941\n",
      "Black                                                         0.154577\n",
      "At Least High School Diploma                                 -0.044569\n",
      "Poor.mental.health.days                                      -0.072366\n",
      "Precincts                                                    -0.183310\n",
      "Asian                                                        -0.244215\n",
      "Adult.smoking                                                -0.306481\n",
      "Unemployment                                                 -0.399855\n",
      "Farming.fishing.and.forestry.occupations                     -0.405445\n",
      "White                                                        -0.412760\n",
      "Poverty.Rate.below.federal.poverty.threshold                 -0.502441\n",
      "White  Asian                                                 -0.521139\n",
      "Total Population                                             -0.581396\n",
      "Graduate Degree                                              -0.595670\n",
      "Poor.physical.health.days                                    -0.667575\n",
      "Positivity Rate                                              -0.889052\n",
      "Total Confirmed                                              -0.891019\n",
      "Sales.and.office.occupations                                 -0.977704\n",
      "Construction.extraction.maintenance.and.repair.occupations   -1.240038\n",
      "Latitude                                                     -1.752900\n",
      "Other                                                        -2.080273\n",
      "At Least Bachelors's Degree                                  -2.602708\n",
      "dtype: float64\n"
     ]
    }
   ],
   "source": [
    "#weight on each features: coef_[0] is for class 1\n",
    "weight = pd.Series(model_fat_bin.coef_[0], index=data_f.columns.values)\n",
    "print(weight.sort_values(ascending=False))"
   ]
  },
  {
   "cell_type": "code",
   "execution_count": 33,
   "metadata": {},
   "outputs": [
    {
     "name": "stdout",
     "output_type": "stream",
     "text": [
      "ROC/AUC Curve\n"
     ]
    },
    {
     "data": {
      "image/png": "[encoded data removed]",
      "text/plain": [
       "<Figure size 500x500 with 1 Axes>"
      ]
     },
     "metadata": {
      "needs_background": "light"
     },
     "output_type": "display_data"
    }
   ],
   "source": [
    "#Plot ROC Curve with AUC score\n",
    "logistic_fpr, logistic_tpr, threshold = roc_curve(y_test, pred_fat_bin)\n",
    "auc_logistic = auc(logistic_fpr, logistic_tpr)\n",
    "\n",
    "plt.figure(figsize=(5, 5), dpi=100)\n",
    "plt.plot(logistic_fpr, logistic_tpr, marker='.', label='Logistic (auc = %0.3f)' % auc_logistic)\n",
    "\n",
    "plt.xlabel('False Positive Rate -->')\n",
    "plt.ylabel('True Positive Rate -->')\n",
    "\n",
    "plt.legend()\n",
    "print('ROC/AUC Curve')\n",
    "plt.show()"
   ]
  },
  {
   "cell_type": "markdown",
   "metadata": {},
   "source": [
    "# Multi-class Logistic Regression"
   ]
  },
  {
   "cell_type": "markdown",
   "metadata": {},
   "source": [
    "# Positivity Rate with multiclass"
   ]
  },
  {
   "cell_type": "code",
   "execution_count": 34,
   "metadata": {},
   "outputs": [
    {
     "name": "stdout",
     "output_type": "stream",
     "text": [
      "(628, 39)\n",
      "(2512, 39)\n",
      "\n",
      "\n",
      "Testing Accuracy: \n",
      " 0.49522292993630573\n",
      "\n",
      "\n",
      "Training Accuracy: \n",
      " 0.5151273885350318\n"
     ]
    }
   ],
   "source": [
    "label_pos_mul = df['risk level positivity']\n",
    "\n",
    "\n",
    "#spliting testing and training set\n",
    "x_train, x_test, y_train, y_test = train_test_split(data_p, label_pos_mul, random_state=0, test_size = 0.20)\n",
    "\n",
    "print(x_test.shape)\n",
    "print(x_train.shape)\n",
    "print('\\n')\n",
    "#train the model \n",
    "#uses the cross-entropy loss if the ‘multi_class’ option is set to ‘multinomial’\n",
    "model_pos_mul = LogisticRegression(multi_class='multinomial', max_iter = 500) \n",
    "model_pos_mul.fit(x_train, y_train)\n",
    "\n",
    "#predict the testing data, accuracy\n",
    "pred_pos_mul = model_pos_mul.predict(x_test)\n",
    "test_acc_pos_mul =  metrics.accuracy_score(pred_pos_mul, y_test)\n",
    "print('Testing Accuracy: \\n', test_acc_pos_mul)\n",
    "print('\\n')\n",
    "#accuracy score the training data\n",
    "train_acc_pos_mul = model_pos_mul.score(x_train, y_train)\n",
    "print('Training Accuracy: \\n', train_acc_pos_mul)\n",
    "\n"
   ]
  },
  {
   "cell_type": "code",
   "execution_count": 35,
   "metadata": {
    "scrolled": false
   },
   "outputs": [
    {
     "name": "stdout",
     "output_type": "stream",
     "text": [
      "Confusion Matrix\n",
      " [[  1   1   2   0   0   0]\n",
      " [  4   6   6   1   0   0]\n",
      " [  8  43 142  64  12   4]\n",
      " [  5   9  92 162  40  20]\n",
      " [  0   1   0   3   0   1]\n",
      " [  0   0   0   0   1   0]]\n",
      "\n",
      "\n",
      "Classification Report\n",
      "               precision    recall  f1-score   support\n",
      "\n",
      "           0       0.06      0.25      0.09         4\n",
      "           1       0.10      0.35      0.16        17\n",
      "           2       0.59      0.52      0.55       273\n",
      "           3       0.70      0.49      0.58       328\n",
      "           4       0.00      0.00      0.00         5\n",
      "           5       0.00      0.00      0.00         1\n",
      "\n",
      "    accuracy                           0.50       628\n",
      "   macro avg       0.24      0.27      0.23       628\n",
      "weighted avg       0.63      0.50      0.55       628\n",
      "\n",
      "\n",
      "\n"
     ]
    }
   ],
   "source": [
    "from sklearn.metrics import confusion_matrix\n",
    "print('Confusion Matrix\\n', confusion_matrix(pred_pos_mul, y_test))\n",
    "print('\\n')\n",
    "print('Classification Report\\n', classification_report(pred_pos_mul, y_test))\n",
    "print('\\n')\n"
   ]
  },
  {
   "cell_type": "code",
   "execution_count": 36,
   "metadata": {
    "scrolled": false
   },
   "outputs": [
    {
     "name": "stdout",
     "output_type": "stream",
     "text": [
      "Adults 65 and Older Living in Poverty                         1.666582\n",
      "Service.occupations                                           1.216860\n",
      "Less Than High School Diploma                                 1.108252\n",
      "Amerindian                                                    0.926691\n",
      "Sales.and.office.occupations                                  0.797626\n",
      "Latitude                                                      0.628143\n",
      "Hispanic                                                      0.607997\n",
      "Gini.Coefficient                                              0.384383\n",
      "Adult.obesity                                                 0.355962\n",
      "Total Confirmed                                               0.340895\n",
      "Poverty.Rate.below.federal.poverty.threshold                  0.268141\n",
      "Total Death                                                   0.112811\n",
      "Sexually.transmitted.infections                               0.012776\n",
      "Longitude                                                     0.009486\n",
      "Total Population                                             -0.042247\n",
      "Children Under 6 Living in Poverty                           -0.054262\n",
      "At Least Bachelors's Degree                                  -0.145760\n",
      "Precincts                                                    -0.224212\n",
      "Production.transportation.and.material.moving.occupations    -0.241435\n",
      "Management.professional.and.related.occupations              -0.270651\n",
      "White                                                        -0.334712\n",
      "Uninsured                                                    -0.356217\n",
      "Other                                                        -0.433021\n",
      "Poor.physical.health.days                                    -0.434071\n",
      "Asian                                                        -0.457042\n",
      "Unemployment                                                 -0.466998\n",
      "Farming.fishing.and.forestry.occupations                     -0.518164\n",
      "White  Asian                                                 -0.537104\n",
      "Black                                                        -0.702559\n",
      "At Least High School Diploma                                 -0.722944\n",
      "Fatality Rate                                                -0.926609\n",
      "Construction.extraction.maintenance.and.repair.occupations   -0.927851\n",
      "School Enrollment                                            -0.987048\n",
      "Graduate Degree                                              -0.995721\n",
      "Median Earnings 2010                                         -1.036271\n",
      "Adult.smoking                                                -1.104938\n",
      "Poor.mental.health.days                                      -1.314758\n",
      "Diabetes                                                     -1.378629\n",
      "Median Age                                                   -1.715972\n",
      "dtype: float64\n"
     ]
    }
   ],
   "source": [
    "#weight on each features coef_[0] for class 0, coef_[1] for class 1 and etc.\n",
    "weight = pd.Series(model_pos_mul.coef_[5], index=data_p.columns.values)\n",
    "\n",
    "print(weight.sort_values(ascending=False))"
   ]
  },
  {
   "cell_type": "markdown",
   "metadata": {},
   "source": [
    "# Fatality Rate with multiclass"
   ]
  },
  {
   "cell_type": "code",
   "execution_count": 37,
   "metadata": {},
   "outputs": [
    {
     "name": "stdout",
     "output_type": "stream",
     "text": [
      "(628, 39)\n",
      "(2512, 39)\n",
      "\n",
      "\n",
      "Testing Accuracy: \n",
      " 0.5143312101910829\n",
      "\n",
      "\n",
      "Training Accuracy: \n",
      " 0.5199044585987261\n"
     ]
    }
   ],
   "source": [
    "label_fat_mul = df['risk level fatality']\n",
    "\n",
    "#spliting testing and training set\n",
    "x_train, x_test, y_train, y_test = train_test_split(data_f, label_fat_mul, random_state=0, test_size = 0.20)\n",
    "\n",
    "print(x_test.shape)\n",
    "print(x_train.shape)\n",
    "print('\\n')\n",
    "#train the model \n",
    "#uses the cross-entropy loss if the ‘multi_class’ option is set to ‘multinomial’\n",
    "model_fat_mul = LogisticRegression(multi_class='multinomial', max_iter=500) \n",
    "model_fat_mul.fit(x_train, y_train)\n",
    "\n",
    "#predict the testing data, accuracy\n",
    "pred_fat_mul = model_fat_mul.predict(x_test)\n",
    "test_acc_fat_mul =  metrics.accuracy_score(pred_fat_mul, y_test)\n",
    "print('Testing Accuracy: \\n', test_acc_fat_mul)\n",
    "print('\\n')\n",
    "#accuracy score the training data\n",
    "train_acc_fat_mul = model_fat_mul.score(x_train, y_train)\n",
    "print('Training Accuracy: \\n', train_acc_fat_mul)"
   ]
  },
  {
   "cell_type": "code",
   "execution_count": 38,
   "metadata": {},
   "outputs": [
    {
     "name": "stdout",
     "output_type": "stream",
     "text": [
      "Confusion Matrix\n",
      " [[ 16  10   4   1   1]\n",
      " [ 48 251 120  29   6]\n",
      " [  7  28  55  29  12]\n",
      " [  1   1   4   1   3]\n",
      " [  1   0   0   0   0]]\n",
      "\n",
      "\n",
      "Classification Report\n",
      "               precision    recall  f1-score   support\n",
      "\n",
      "           1       0.22      0.50      0.30        32\n",
      "           2       0.87      0.55      0.67       454\n",
      "           3       0.30      0.42      0.35       131\n",
      "           4       0.02      0.10      0.03        10\n",
      "           5       0.00      0.00      0.00         1\n",
      "\n",
      "    accuracy                           0.51       628\n",
      "   macro avg       0.28      0.31      0.27       628\n",
      "weighted avg       0.70      0.51      0.58       628\n",
      "\n",
      "\n",
      "\n"
     ]
    }
   ],
   "source": [
    "from sklearn.metrics import confusion_matrix\n",
    "print('Confusion Matrix\\n', confusion_matrix(pred_fat_mul, y_test))\n",
    "print('\\n')\n",
    "print('Classification Report\\n', classification_report(pred_fat_mul, y_test))\n",
    "print('\\n')\n"
   ]
  },
  {
   "cell_type": "code",
   "execution_count": 39,
   "metadata": {},
   "outputs": [
    {
     "name": "stdout",
     "output_type": "stream",
     "text": [
      "Median Age                                                    2.599825\n",
      "Farming.fishing.and.forestry.occupations                      1.751919\n",
      "Diabetes                                                      1.330255\n",
      "Gini.Coefficient                                              1.133660\n",
      "Black                                                         0.795071\n",
      "Adults 65 and Older Living in Poverty                         0.533990\n",
      "Uninsured                                                     0.434411\n",
      "Children Under 6 Living in Poverty                            0.398867\n",
      "Service.occupations                                           0.330786\n",
      "Management.professional.and.related.occupations               0.276923\n",
      "Poverty.Rate.below.federal.poverty.threshold                  0.207854\n",
      "Hispanic                                                      0.178619\n",
      "Less Than High School Diploma                                 0.103986\n",
      "Sexually.transmitted.infections                               0.091006\n",
      "Longitude                                                     0.066658\n",
      "Adult.smoking                                                 0.046738\n",
      "Total Death                                                  -0.087369\n",
      "Construction.extraction.maintenance.and.repair.occupations   -0.128949\n",
      "White                                                        -0.129743\n",
      "School Enrollment                                            -0.130279\n",
      "Total Confirmed                                              -0.169450\n",
      "Total Population                                             -0.186684\n",
      "Precincts                                                    -0.187929\n",
      "Production.transportation.and.material.moving.occupations    -0.210680\n",
      "At Least High School Diploma                                 -0.219486\n",
      "Amerindian                                                   -0.297309\n",
      "Unemployment                                                 -0.310243\n",
      "White  Asian                                                 -0.311056\n",
      "Asian                                                        -0.409904\n",
      "Poor.physical.health.days                                    -0.439820\n",
      "Other                                                        -0.537263\n",
      "Latitude                                                     -0.552740\n",
      "Poor.mental.health.days                                      -0.554501\n",
      "Adult.obesity                                                -0.608571\n",
      "Median Earnings 2010                                         -0.925319\n",
      "At Least Bachelors's Degree                                  -1.062016\n",
      "Graduate Degree                                              -1.065024\n",
      "Positivity Rate                                              -1.226096\n",
      "Sales.and.office.occupations                                 -1.901275\n",
      "dtype: float64\n"
     ]
    }
   ],
   "source": [
    "#weight on each features coef_[0] is for class 1, coef_[1] is for class 2 and etc. there is no class 0 \n",
    "weight = pd.Series(model_fat_mul.coef_[4], index=data_f.columns.values)\n",
    "print(weight.sort_values(ascending=False))"
   ]
  },
  {
   "cell_type": "code",
   "execution_count": 40,
   "metadata": {},
   "outputs": [
    {
     "data": {
      "text/plain": [
       "Text(0, 0.5, 'Levels of Risk')"
      ]
     },
     "execution_count": 40,
     "metadata": {},
     "output_type": "execute_result"
    },
    {
     "data": {
      "image/png": "[encoded data removed]",
      "text/plain": [
       "<Figure size 432x288 with 1 Axes>"
      ]
     },
     "metadata": {
      "needs_background": "light"
     },
     "output_type": "display_data"
    }
   ],
   "source": [
    "#scatterplot of positivity rate with class\n",
    "plt.scatter(df['Positivity Rate'], df['risk level positivity'], marker = '+', color = 'blue')\n",
    "plt.xlabel('Positivity Rate')\n",
    "plt.ylabel('Levels of Risk')"
   ]
  },
  {
   "cell_type": "code",
   "execution_count": 41,
   "metadata": {},
   "outputs": [
    {
     "data": {
      "text/plain": [
       "Text(0, 0.5, 'Levels of Risk')"
      ]
     },
     "execution_count": 41,
     "metadata": {},
     "output_type": "execute_result"
    },
    {
     "data": {
      "image/png": "[encoded data removed]",
      "text/plain": [
       "<Figure size 432x288 with 1 Axes>"
      ]
     },
     "metadata": {
      "needs_background": "light"
     },
     "output_type": "display_data"
    }
   ],
   "source": [
    "#scatterplot of positivity rate with class\n",
    "plt.scatter(df['Fatality Rate'], df['risk level fatality'], marker = '+', color = 'red')\n",
    "plt.xlabel('Fatality Rate')\n",
    "plt.ylabel('Levels of Risk')"
   ]
  },
  {
   "cell_type": "code",
   "execution_count": null,
   "metadata": {},
   "outputs": [],
   "source": []
  }
 ],
 "metadata": {
  "kernelspec": {
   "display_name": "Python 3",
   "language": "python",
   "name": "python3"
  },
  "language_info": {
   "codemirror_mode": {
    "name": "ipython",
    "version": 3
   },
   "file_extension": ".py",
   "mimetype": "text/x-python",
   "name": "python",
   "nbconvert_exporter": "python",
   "pygments_lexer": "ipython3",
   "version": "3.8.5"
  }
 },
 "nbformat": 4,
 "nbformat_minor": 4
}
